{
 "cells": [
  {
   "cell_type": "code",
   "execution_count": 26,
   "metadata": {},
   "outputs": [],
   "source": [
    "import pandas as pd\n",
    "import os"
   ]
  },
  {
   "cell_type": "code",
   "execution_count": 39,
   "metadata": {},
   "outputs": [
    {
     "data": {
      "text/html": [
       "<div>\n",
       "<style scoped>\n",
       "    .dataframe tbody tr th:only-of-type {\n",
       "        vertical-align: middle;\n",
       "    }\n",
       "\n",
       "    .dataframe tbody tr th {\n",
       "        vertical-align: top;\n",
       "    }\n",
       "\n",
       "    .dataframe thead th {\n",
       "        text-align: right;\n",
       "    }\n",
       "</style>\n",
       "<table border=\"1\" class=\"dataframe\">\n",
       "  <thead>\n",
       "    <tr style=\"text-align: right;\">\n",
       "      <th></th>\n",
       "      <th>Date</th>\n",
       "      <th>Time</th>\n",
       "      <th>PM2.5</th>\n",
       "      <th>PM2.5 AQI</th>\n",
       "    </tr>\n",
       "  </thead>\n",
       "  <tbody>\n",
       "    <tr>\n",
       "      <th>0</th>\n",
       "      <td>1/1/2013</td>\n",
       "      <td>1:00 AM</td>\n",
       "      <td>324.4</td>\n",
       "      <td>238</td>\n",
       "    </tr>\n",
       "    <tr>\n",
       "      <th>1</th>\n",
       "      <td>1/1/2013</td>\n",
       "      <td>2:00 AM</td>\n",
       "      <td>366.8</td>\n",
       "      <td>243</td>\n",
       "    </tr>\n",
       "    <tr>\n",
       "      <th>2</th>\n",
       "      <td>1/1/2013</td>\n",
       "      <td>3:00 AM</td>\n",
       "      <td>290.7</td>\n",
       "      <td>250</td>\n",
       "    </tr>\n",
       "    <tr>\n",
       "      <th>3</th>\n",
       "      <td>1/1/2013</td>\n",
       "      <td>4:00 AM</td>\n",
       "      <td>245.4</td>\n",
       "      <td>254</td>\n",
       "    </tr>\n",
       "    <tr>\n",
       "      <th>4</th>\n",
       "      <td>1/1/2013</td>\n",
       "      <td>5:00 AM</td>\n",
       "      <td>220.3</td>\n",
       "      <td>259</td>\n",
       "    </tr>\n",
       "  </tbody>\n",
       "</table>\n",
       "</div>"
      ],
      "text/plain": [
       "       Date     Time  PM2.5 PM2.5 AQI\n",
       "0  1/1/2013  1:00 AM  324.4       238\n",
       "1  1/1/2013  2:00 AM  366.8       243\n",
       "2  1/1/2013  3:00 AM  290.7       250\n",
       "3  1/1/2013  4:00 AM  245.4       254\n",
       "4  1/1/2013  5:00 AM  220.3       259"
      ]
     },
     "execution_count": 39,
     "metadata": {},
     "output_type": "execute_result"
    }
   ],
   "source": [
    "for year in range(2013, 2017):\n",
    "    pd1 = pd.read_csv(f\"https://raw.githubusercontent.com/krishnaik06/AQI-Project/master/Data/AQI/aqi{year}.csv\")\n",
    "    if not os.path.exists(\"Data\\AQI\"):\n",
    "        os.makedirs(\"Data\\AQI\")\n",
    "    \n",
    "    if \"Data\\AQI\" not in os.getcwd():\n",
    "        os.chdir(\"Data\\AQI\")\n",
    "    pd1.to_csv('aqi2016.csv', header=True, index=False)"
   ]
  },
  {
   "cell_type": "code",
   "execution_count": 40,
   "metadata": {},
   "outputs": [
    {
     "data": {
      "text/plain": [
       "'C:\\\\Rishav_python\\\\Machine_learning\\\\Air Quality Index\\\\Data\\\\AQI'"
      ]
     },
     "execution_count": 40,
     "metadata": {},
     "output_type": "execute_result"
    }
   ],
   "source": [
    "# os.chdir(\"Data\\AQI\")\n",
    "os.getcwd()"
   ]
  },
  {
   "cell_type": "code",
   "execution_count": 38,
   "metadata": {},
   "outputs": [],
   "source": [
    "pd1.to_csv('aqi2016.csv', header=True, index=False)"
   ]
  },
  {
   "cell_type": "code",
   "execution_count": null,
   "metadata": {},
   "outputs": [],
   "source": []
  }
 ],
 "metadata": {
  "kernelspec": {
   "display_name": "Python 3",
   "language": "python",
   "name": "python3"
  },
  "language_info": {
   "codemirror_mode": {
    "name": "ipython",
    "version": 3
   },
   "file_extension": ".py",
   "mimetype": "text/x-python",
   "name": "python",
   "nbconvert_exporter": "python",
   "pygments_lexer": "ipython3",
   "version": "3.8.6rc1"
  }
 },
 "nbformat": 4,
 "nbformat_minor": 4
}
